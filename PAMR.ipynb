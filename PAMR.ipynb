{
 "cells": [
  {
   "cell_type": "code",
   "execution_count": 1,
   "metadata": {},
   "outputs": [],
   "source": [
    "import numpy as np\n",
    "import pandas as pd\n",
    "import time"
   ]
  },
  {
   "cell_type": "markdown",
   "metadata": {},
   "source": [
    "## PAMR\n",
    "\n",
    "Pamr: Passive aggressive mean reversion strategy for portfolio selection, 2012.\n",
    "\n",
    "Reference:\n",
    "B. Li, P. Zhao, S. C.H. Hoi, and V. Gopalkrishnan.\n",
    "http://www.cais.ntu.edu.sg/~chhoi/paper_pdf/PAMR_ML_final.pdf"
   ]
  },
  {
   "cell_type": "markdown",
   "metadata": {},
   "source": [
    "#### Algorithm : PAMR\n",
    "INPUT: 𝜖: sensitivity parameter; C: aggressiveness parameter\n",
    "\n",
    "PROCEDURE\n",
    "1. Initialize $𝒃_𝟏 =(\\frac{1}{𝑚},⋯,\\frac{1}{𝑚})$ \n",
    "2. for t = 1, 2,...,n do\n",
    "3. $\\quad$Receive stock price relatives: $𝑥_𝑡=(𝑥_{t1},⋯,𝑥_{tm})$\n",
    "4. $\\quad$Suffer loss: $ℓ_𝜖^𝑡=max⁡( 0, 𝒃_𝒕 · 𝒙_𝒕 − 𝜖)$\n",
    "5. $\\quad$Set parameters: $$\n",
    "\\tau_t=\\begin{cases}\n",
    "\\frac{ℓ_𝜖^𝑡}{‖x−\\bar x_𝑡 1‖^2},& (PAMR) \\\\ min(C, \\frac{ℓ_𝜖^𝑡}{‖x−\\bar x_𝑡 1‖^2}),& (PAMR-1) \\cr \\frac{ℓ_𝜖^𝑡}{‖x−\\bar x_𝑡 1‖^2 + \\frac{1}{2C}},& (PAMR-2)\n",
    "\\end{cases}\n",
    "$$\n",
    "6. $\\quad$Update portfolio: $$𝒃_{𝑡+1}= 𝒃_𝑡 - \\tau_t (x−\\bar x_𝑡 1)$$\n",
    "7. $\\quad$Normalize portfolio: $$𝒃_{𝑡+1}=argmin‖𝒃−𝒃_𝑡 ‖^2$$\n",
    "8. end for\n",
    "\n",
    "END"
   ]
  },
  {
   "cell_type": "code",
   "execution_count": 38,
   "metadata": {
    "scrolled": true
   },
   "outputs": [
    {
     "name": "stdout",
     "output_type": "stream",
     "text": [
      "data.shape： (5651, 36)\n"
     ]
    }
   ],
   "source": [
    "data=pd.read_csv('./Data_OLPS/nyse-o.csv',encoding=\"gb18030\")\n",
    "print('data.shape：',data.shape) \n",
    "\n",
    "# nyse-o , nyse-n, djia, tse, sp500"
   ]
  },
  {
   "cell_type": "code",
   "execution_count": 39,
   "metadata": {},
   "outputs": [
    {
     "data": {
      "text/plain": [
       "array([[1.01515, 1.02765, 1.04183, ..., 1.00578, 0.99697, 0.99752],\n",
       "       [1.01493, 1.04036, 0.98905, ..., 1.00958, 0.99088, 1.00248],\n",
       "       [1.     , 0.97629, 0.97786, ..., 1.     , 1.02761, 0.99752],\n",
       "       ...,\n",
       "       [0.99029, 0.9966 , 0.99605, ..., 0.99216, 1.00461, 0.99273],\n",
       "       [0.99265, 1.00683, 1.     , ..., 0.99209, 1.02752, 1.00366],\n",
       "       [0.99753, 1.00339, 1.01984, ..., 1.01195, 1.     , 0.99635]])"
      ]
     },
     "execution_count": 39,
     "metadata": {},
     "output_type": "execute_result"
    }
   ],
   "source": [
    "N=data.shape[0]\n",
    "d=data.shape[1]\n",
    "x=np.zeros((N,d))\n",
    "x=data.to_numpy()\n",
    "x"
   ]
  },
  {
   "cell_type": "code",
   "execution_count": 40,
   "metadata": {},
   "outputs": [],
   "source": [
    "def simplex_proj(y):\n",
    "    \"\"\" Projection of y onto simplex. \"\"\"\n",
    "    m = len(y)\n",
    "    bget = False\n",
    "\n",
    "    s = sorted(y, reverse=True)\n",
    "    tmpsum = 0.\n",
    "\n",
    "    for ii in range(m-1):\n",
    "        tmpsum = tmpsum + s[ii]\n",
    "        tmax = (tmpsum - 1) / (ii + 1);\n",
    "        if tmax >= s[ii+1]:\n",
    "            bget = True\n",
    "            break\n",
    "\n",
    "    if not bget:\n",
    "        tmax = (tmpsum + s[m-1] -1)/m\n",
    "\n",
    "    return np.maximum(y-tmax,0.)"
   ]
  },
  {
   "cell_type": "code",
   "execution_count": 45,
   "metadata": {
    "scrolled": true
   },
   "outputs": [
    {
     "name": "stdout",
     "output_type": "stream",
     "text": [
      "Cumulative return: 5062991996190654.0 -----> Expressed by scientific counting: 5.06e+15\n",
      "Program running time: 0.54996657371521\n"
     ]
    }
   ],
   "source": [
    "start = time.time()\n",
    "cum_ret=1\n",
    "C=500\n",
    "gamma = 0.0001\n",
    "b=np.ones(d)/d\n",
    "daily_r=np.ones(N)\n",
    "epsilon = 0.5 \n",
    "tc=0.0007\n",
    "for t in range(N-1):\n",
    "    le = np.maximum(0,np.dot(x[t],b) - epsilon)\n",
    "    denominator = np.sum((x[t] - np.mean(x[t]))**2)\n",
    "    tau = le / denominator                         # PAMR\n",
    "#     tau = np.minimum(C, le / denominator)          # PAMR-1\n",
    "#     tau = le / (denominator + 0.5 / C)             # PAMR-2\n",
    "    b = b-tau * (x[t] - np.mean(x[t])) \n",
    "    b = simplex_proj(b)\n",
    "#     tc = gamma/2 * (np.abs(((x[t+1]*b)/ (np.dot(x[t+1],b)))[1:] - b[1:])).sum()\n",
    "    daily_r[t] = np.dot(x[t+1],b) #* (1-tc)\n",
    "    cum_ret = cum_ret * daily_r[t] \n",
    "print(\"Cumulative return:\",cum_ret,\"-----> Expressed by scientific counting:\",f'{cum_ret:1.2e}') \n",
    "\n",
    "end = time.time()\n",
    "print(\"Program running time:\",end-start)"
   ]
  },
  {
   "cell_type": "code",
   "execution_count": 46,
   "metadata": {},
   "outputs": [
    {
     "name": "stdout",
     "output_type": "stream",
     "text": [
      "Average daily rate of return: 1.0069198319928963\n",
      "Volatility is:  0.5112122875470325\n",
      "Daily Sharpe ratio is:  31.267552019320863\n",
      "Max Drawdown is:  0.381751023232395\n",
      "Calmar Ratio is:  12.2718134208421\n"
     ]
    }
   ],
   "source": [
    "daily_r = pd.DataFrame(daily_r,index = data.index,columns=['daily return'])\n",
    "# print(daily_r)\n",
    "mean_daily = daily_r['daily return'].mean()\n",
    "print(\"Average daily rate of return:\",mean_daily)\n",
    "mean_return_annualized = mean_daily**252 - 1\n",
    "# print(\"mean_return_annualized:\",mean_return_annualized)\n",
    "\n",
    "std_daily = np.std(np.array(daily_r))\n",
    "variance_daily = std_daily ** 2\n",
    "std_annualized = std_daily*np.sqrt(252)\n",
    "variance_annualized = std_annualized ** 2\n",
    "volatility = std_daily * np.sqrt(252)\n",
    "print(\"Volatility is: \",volatility)\n",
    "SR = mean_daily/std_daily\n",
    "print(\"Daily Sharpe ratio is: \",SR)\n",
    "ASR=np.sqrt(252)*SR\n",
    "maximum = np.maximum.accumulate(np.array(daily_r))\n",
    "MDD = ((maximum - np.array(daily_r)) / maximum).max()\n",
    "print(\"Max Drawdown is: \",MDD)\n",
    "CS = mean_return_annualized/MDD\n",
    "print(\"Calmar Ratio is: \",CS)"
   ]
  },
  {
   "cell_type": "code",
   "execution_count": null,
   "metadata": {},
   "outputs": [],
   "source": []
  },
  {
   "cell_type": "code",
   "execution_count": null,
   "metadata": {},
   "outputs": [],
   "source": []
  }
 ],
 "metadata": {
  "kernelspec": {
   "display_name": "Python 3",
   "language": "python",
   "name": "python3"
  },
  "language_info": {
   "codemirror_mode": {
    "name": "ipython",
    "version": 3
   },
   "file_extension": ".py",
   "mimetype": "text/x-python",
   "name": "python",
   "nbconvert_exporter": "python",
   "pygments_lexer": "ipython3",
   "version": "3.7.2"
  }
 },
 "nbformat": 4,
 "nbformat_minor": 4
}
