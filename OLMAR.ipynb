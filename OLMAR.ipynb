{
 "cells": [
  {
   "cell_type": "code",
   "execution_count": 2,
   "metadata": {},
   "outputs": [],
   "source": [
    "import numpy as np\n",
    "import pandas as pd"
   ]
  },
  {
   "cell_type": "markdown",
   "metadata": {},
   "source": [
    "## OLMAR\n",
    "\n",
    "On-Line Portfolio Selection with Moving Average Reversion.\n",
    "\n",
    "Reference:\n",
    "B. Li, S. C.H. Hoi.\n",
    "https://icml.cc/2012/papers/168.pdf"
   ]
  },
  {
   "cell_type": "code",
   "execution_count": 3,
   "metadata": {},
   "outputs": [
    {
     "name": "stdout",
     "output_type": "stream",
     "text": [
      "data shape： (1276, 25)\n"
     ]
    }
   ],
   "source": [
    "data=pd.read_csv('./Data_OLPS/sp500.csv',encoding=\"gb18030\")\n",
    "print('data shape：',data.shape)"
   ]
  },
  {
   "cell_type": "code",
   "execution_count": 4,
   "metadata": {},
   "outputs": [
    {
     "data": {
      "text/plain": [
       "array([[1.01773646, 0.99428331, 1.00952381, ..., 0.97113071, 1.03318242,\n",
       "        1.04351768],\n",
       "       [0.98671935, 1.00574956, 1.00628931, ..., 0.97440132, 1.00145751,\n",
       "        0.98262381],\n",
       "       [1.00841313, 0.98808463, 0.996875  , ..., 1.03559322, 1.02478367,\n",
       "        0.98054819],\n",
       "       ...,\n",
       "       [0.99481641, 1.02232692, 0.99833956, ..., 1.03733122, 1.03882726,\n",
       "        1.00492287],\n",
       "       [0.97915762, 0.96653977, 0.98898129, ..., 0.98315467, 0.96058988,\n",
       "        0.9694644 ],\n",
       "       [1.02616408, 0.98383085, 1.00483498, ..., 1.00311526, 1.02038115,\n",
       "        1.01465387]])"
      ]
     },
     "execution_count": 4,
     "metadata": {},
     "output_type": "execute_result"
    }
   ],
   "source": [
    "#data.info()\n",
    "N=data.shape[0]\n",
    "d=data.shape[1]\n",
    "x=np.zeros((N,d))\n",
    "b=np.ones(d)/d\n",
    "x=data.to_numpy()\n",
    "x"
   ]
  },
  {
   "cell_type": "code",
   "execution_count": 5,
   "metadata": {},
   "outputs": [],
   "source": [
    "def simplex_proj(y):\n",
    "    \"\"\" Projection of y onto simplex. \"\"\"\n",
    "    m = len(y)\n",
    "    bget = False\n",
    "\n",
    "    s = sorted(y, reverse=True)\n",
    "    tmpsum = 0.\n",
    "\n",
    "    for ii in range(m-1):\n",
    "        tmpsum = tmpsum + s[ii]\n",
    "        tmax = (tmpsum - 1) / (ii + 1);\n",
    "        if tmax >= s[ii+1]:\n",
    "            bget = True\n",
    "            break\n",
    "\n",
    "    if not bget:\n",
    "        tmax = (tmpsum + s[m-1] -1)/m\n",
    "\n",
    "    return np.maximum(y-tmax,0.)\n"
   ]
  },
  {
   "cell_type": "markdown",
   "metadata": {},
   "source": [
    "### Algorithm 1. Portfolio Selection with OLMAR.\n",
    "1. Input: $𝜖>1$: Reversion threshold; $w>3$: Window size; $x_1^n$: Market sequence.\n",
    "2. Output: $S_n$: Cumulative wealth after $n^{th}$ periods.\n",
    "3. Procedure:\n",
    "4. Initialize $𝒃_𝟏 =(\\frac{1}{𝑚},⋯,\\frac{1}{𝑚}),S_0 = 1$ \n",
    "5. for t = 1, 2,...,n do\n",
    "6. $\\quad$Receive stock price relatives: $𝑥_𝑡=(𝑥_{t1},⋯,𝑥_{tm})$\n",
    "7. $\\quad$Calculate daily return and cumulative return: $S_t=S_{t-1}×(b_t·x_𝑡)$\n",
    "8. $\\quad$Predict next price relative vector: \n",
    "$$\n",
    "x̃_{𝑡+1}= \\frac{1}{w} (1+\\frac{1}{x_𝑡}+ ⋯ + \\frac{1}{⊗_{i=0}^{w-2}\\quad x_{t-i}})\n",
    "$$\n",
    "\n",
    "9. $\\quad$Update the portfolio:\n",
    "\n",
    "$$\n",
    "b_{t+1}=OLMAR(ϵ, w, x_{t+1}, b_t)\n",
    "$$"
   ]
  },
  {
   "cell_type": "code",
   "execution_count": 6,
   "metadata": {},
   "outputs": [],
   "source": [
    "#  Simple moving average, p totals have omega-1 row data,its ,relative_prices\n",
    "def SMA_predict(omega,p,d): # omega: SMA Window size , d = p.shape[1] -> stocks_number\n",
    "    unit_vector = np.ones(d)\n",
    "    SMA_predict = np.zeros(d)\n",
    "    SMA_predict += unit_vector\n",
    "    for i in range(1,omega):\n",
    "        x = np.ones(d)\n",
    "        for j in range(i):\n",
    "            x *= p.iloc[omega-j-2,:]\n",
    "        SMA_predict += 1.0/x\n",
    "    SMA_predict = SMA_predict/omega\n",
    "    return SMA_predict\n"
   ]
  },
  {
   "cell_type": "markdown",
   "metadata": {},
   "source": [
    "### Algorithm 2.   OLMAR($ϵ, w, x_{t+1}, b_t$)\n",
    "1. Input: $𝜖>1$: Reversion threshold; $w>3$: Window size; $x̃_{𝑡+1}$: Predicted price relatives; $b_t$:  Current portfolio.\n",
    "2. Output: $b_{t+1}$: Next portfolio.\n",
    "3. Procedure:\n",
    "4. Calculate the following variables:\n",
    "$$\\bar x_{𝑡+1}=\\frac{1^T x̃_{𝑡+1}}{m},λ_{t+1}=max⁡(0,\\frac{ε-b_t ⋅ x̃_{𝑡+1})}{‖x̃_{𝑡+1}−\\bar x_{𝑡+1}‖^2})$$\n",
    "5. Update the portfolio:\n",
    "$$b_{t+1}=b_t+λ_{t+1}(x̃_{𝑡+1}−\\bar x_{𝑡+1})$$\n",
    "6. Normalize portfolio: $$𝒃_{𝑡+1}=argmin‖𝒃−𝒃_𝑡 ‖^2$$"
   ]
  },
  {
   "cell_type": "code",
   "execution_count": 7,
   "metadata": {},
   "outputs": [
    {
     "name": "stdout",
     "output_type": "stream",
     "text": [
      "Cumulative return: 56122.95391049031 -----> Expressed by scientific counting: 5.61e+04\n"
     ]
    }
   ],
   "source": [
    "cum_ret=1 # Initialization\n",
    "epsilon=5 # Reversion threshold\n",
    "w=10 # SMA Window size\n",
    "daily_r=np.ones(N)\n",
    "b=np.ones(d)/d\n",
    "\n",
    "for t in range(N-1):\n",
    "    x[t+1] = SMA_predict(w,data,d)\n",
    "    x_bar = np.mean(x[t+1])\n",
    "    denominator = np.sum((x[t+1] - np.mean(x[t+1]))**2)\n",
    "    molecular  = epsilon - np.dot(b,x[t+1])\n",
    "    lambd = np.maximum(0, molecular / denominator)\n",
    "    b = b + lambd * (x[t+1] - x_bar) #- gamma * (y[t+1] - y_bar)\n",
    "    b = simplex_proj(b)\n",
    "    daily_r[t] = np.dot(x[t+1],b)\n",
    "    cum_ret = cum_ret * daily_r[t] \n",
    "print(\"Cumulative return:\",cum_ret,\"-----> Expressed by scientific counting:\",f'{cum_ret:1.2e}') \n"
   ]
  },
  {
   "cell_type": "code",
   "execution_count": null,
   "metadata": {},
   "outputs": [],
   "source": []
  }
 ],
 "metadata": {
  "kernelspec": {
   "display_name": "Python 3",
   "language": "python",
   "name": "python3"
  },
  "language_info": {
   "codemirror_mode": {
    "name": "ipython",
    "version": 3
   },
   "file_extension": ".py",
   "mimetype": "text/x-python",
   "name": "python",
   "nbconvert_exporter": "python",
   "pygments_lexer": "ipython3",
   "version": "3.7.2"
  }
 },
 "nbformat": 4,
 "nbformat_minor": 4
}
