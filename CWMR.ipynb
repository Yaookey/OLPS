{
 "cells": [
  {
   "cell_type": "code",
   "execution_count": 2,
   "metadata": {},
   "outputs": [],
   "source": [
    "import numpy as np\n",
    "import pandas as pd\n",
    "import scipy\n",
    "from scipy import io\n",
    "import statsmodels.api as sm\n",
    "import time\n",
    "from numpy import diag, sqrt, log, trace\n",
    "from numpy.linalg import inv"
   ]
  },
  {
   "cell_type": "markdown",
   "metadata": {},
   "source": [
    "## CWMR\n",
    "\n",
    "Confidence Weighted Mean Reversion Strategy for Online Portfolio Selection. ACM Transactions on Knowledge Discovery from Data 7, 1 (2013), 4:1–4:38.\n",
    "\n",
    "Reference:\n",
    "B. Li, S. C. H. Hoi, P. Zhao, and V. Gopalkrishnan.\n",
    "https://citeseerx.ist.psu.edu/viewdoc/download?doi=10.1.1.890.4606&rep=rep1&type=pdf"
   ]
  },
  {
   "cell_type": "code",
   "execution_count": 19,
   "metadata": {
    "scrolled": true
   },
   "outputs": [
    {
     "name": "stdout",
     "output_type": "stream",
     "text": [
      "data.shape： (5651, 36)\n"
     ]
    },
    {
     "data": {
      "text/plain": [
       "array([[1.01515, 1.02765, 1.04183, ..., 1.00578, 0.99697, 0.99752],\n",
       "       [1.01493, 1.04036, 0.98905, ..., 1.00958, 0.99088, 1.00248],\n",
       "       [1.     , 0.97629, 0.97786, ..., 1.     , 1.02761, 0.99752],\n",
       "       ...,\n",
       "       [0.99029, 0.9966 , 0.99605, ..., 0.99216, 1.00461, 0.99273],\n",
       "       [0.99265, 1.00683, 1.     , ..., 0.99209, 1.02752, 1.00366],\n",
       "       [0.99753, 1.00339, 1.01984, ..., 1.01195, 1.     , 0.99635]])"
      ]
     },
     "execution_count": 19,
     "metadata": {},
     "output_type": "execute_result"
    }
   ],
   "source": [
    "data=pd.read_csv('./Data_OLPS/nyse-o.csv',encoding=\"gb18030\")\n",
    "# data=pd.read_csv('./data/msci.csv',encoding=\"gb18030\")\n",
    "\n",
    "print('data.shape：',data.shape) \n",
    "\n",
    "#data.info()\n",
    "N=data.shape[0]\n",
    "d=data.shape[1]\n",
    "x=np.zeros((N,d))\n",
    "x=data.to_numpy()\n",
    "x"
   ]
  },
  {
   "cell_type": "code",
   "execution_count": 20,
   "metadata": {},
   "outputs": [],
   "source": [
    "def simplex_proj(y):\n",
    "    \"\"\" Projection of y onto simplex. \"\"\"\n",
    "    m = len(y)\n",
    "    bget = False\n",
    "\n",
    "    s = sorted(y, reverse=True)\n",
    "    tmpsum = 0.\n",
    "\n",
    "    for ii in range(m-1):\n",
    "        tmpsum = tmpsum + s[ii]\n",
    "        tmax = (tmpsum - 1) / (ii + 1);\n",
    "        if tmax >= s[ii+1]:\n",
    "            bget = True\n",
    "            break\n",
    "\n",
    "    if not bget:\n",
    "        tmax = (tmpsum + s[m-1] -1)/m\n",
    "\n",
    "    return np.maximum(y-tmax,0.)\n",
    "\n",
    "\n",
    "def CWMR_Var(x, x_bar, mu, sigma, M, V, theta, eps):\n",
    "    # lambda from equation 7\n",
    "    a = 2 * phi * V**2 - 2 * phi * x_bar * V * W\n",
    "    b = 2 * phi * eps * V - 2 * phi * V * M + V - x_bar * W\n",
    "    c = eps - M - phi * V\n",
    "    t1 = b\n",
    "    t2 = sqrt(b**2 - 4 * a * c)\n",
    "    t3 = 2 * a\n",
    "    if((a!=0)&(np.isreal(t2))&(t2>0)):\n",
    "        gamma1 = (-t1+t2)/t3 \n",
    "        gamma2 = (-t1-t2)/t3\n",
    "        lambd = np.maximum(np.maximum(gamma1,gamma2),0)\n",
    "    elif(a == 0) & (b != 0):\n",
    "        gamma3 = -c/b\n",
    "        lambd = np.maximum(gamma3,0)   \n",
    "    else:\n",
    "        lambd = 0\n",
    "    mu = mu - lambd * np.dot(sigma,(x - x_bar))/ M\n",
    "    sigma = inv(inv(sigma) + 2 * lambd * phi * diag(x)**2)\n",
    "    return mu, sigma\n",
    "\n",
    "def CWMR_Stdev(x, x_bar, mu, sigma, M, V, theta, eps):\n",
    "    # lambda from equation 7\n",
    "    a = (V - x_bar * W + phi**2 * V / 2)**2 - (phi**4) * (V**2) / 4\n",
    "    b = 2 * (eps - M) * (V - x_bar * W + (phi**2) * V / 2)\n",
    "    c = (eps - M)**2 - (phi**2) * V\n",
    "    t1 = b\n",
    "    t2 = sqrt(b**2 - 4 * a * c)\n",
    "    t3 = 2 * a\n",
    "    if((a!=0)&(np.isreal(t2))&(t2>0)):\n",
    "        gamma1 = (-t1+t2)/t3 \n",
    "        gamma2 = (-t1-t2)/t3\n",
    "        lambd = np.maximum(np.maximum(gamma1,gamma2),0)\n",
    "    elif(a == 0) & (b != 0):\n",
    "        gamma3 = -c/b\n",
    "        lambd = np.maximum(gamma3,0)   \n",
    "    else:\n",
    "        lambd = 0\n",
    "    mu = mu - lambd * np.dot(sigma,(x - x_bar))/ M\n",
    "    sigma = inv(inv(sigma) + 2 * lambd * phi * diag(x)**2)\n",
    "    return mu, sigma"
   ]
  },
  {
   "cell_type": "code",
   "execution_count": 21,
   "metadata": {
    "scrolled": true
   },
   "outputs": [
    {
     "name": "stdout",
     "output_type": "stream",
     "text": [
      "Cumulative return: 1.8083607416553684e+16 -----> Expressed by scientific counting: 1.81e+16\n",
      "Program running time: 1.978968858718872\n"
     ]
    }
   ],
   "source": [
    "start = time.time()\n",
    "# INPUT:\n",
    "phi=0.95 # Confidence parameter for profitable mean reversion portfolio.Recommended value is 0.95.\n",
    "eps=-0.5 # Mean reversion threshold (expected return on current day must be lower than this threshold). Recommended value is -0.5.\n",
    "# INITIALIZE:\n",
    "cum_ret=1\n",
    "lambd = 0\n",
    "mu = np.ones(d)/d # mu: last portfolio mean\n",
    "sigma = np.eye(d)/(d**2) # sigma: last diagonal covariance matrix\n",
    "weight=mu/np.sum(mu)\n",
    "theta = scipy.stats.norm.ppf(phi) # Quantile function (inverse of CDF\n",
    "daily_r=np.ones(N)\n",
    "\n",
    "for t in range(N-1):\n",
    "    # 4. Calculate the following variables    \n",
    "    M = np.dot(mu.T,x[t])\n",
    "    V = np.dot(np.dot(x[t].T, sigma),x[t])\n",
    "    W = np.dot(np.dot(x[t].T, sigma),np.ones(d))\n",
    "    x_bar = (np.dot(np.ones(d),np.dot(sigma,x[t]))/np.dot((np.dot(np.ones(d),sigma)),np.ones(d)))\n",
    "    # 5. Update mu and sigma\n",
    "#     mu, sigma = CWMR_Var(x[t], x_bar, mu, sigma, M, V, theta, eps)\n",
    "    mu, sigma = CWMR_Stdev(x[t], x_bar, mu, sigma, M, V, theta, eps)\n",
    "    # 6. Normalize mu and sigma    \n",
    "    mu = simplex_proj(mu)\n",
    "    sigma = sigma / (d**2 * trace(sigma))\n",
    "    weight = mu\n",
    "#     tc = gamma/2 * (np.abs(((x[t+1]*weight)/ (np.dot(x[t+1],weight)))[1:] - weight[1:])).sum()\n",
    "    daily_r[t] = np.dot(x[t+1],weight) #* (1-tc)\n",
    "    cum_ret = cum_ret * daily_r[t] \n",
    "print(\"Cumulative return:\",cum_ret,\"-----> Expressed by scientific counting:\",f'{cum_ret:1.2e}') \n",
    "\n",
    "end = time.time()\n",
    "print(\"Program running time:\",end-start)"
   ]
  },
  {
   "cell_type": "code",
   "execution_count": 22,
   "metadata": {},
   "outputs": [
    {
     "name": "stdout",
     "output_type": "stream",
     "text": [
      "Average daily rate of return: 1.007216867773141\n",
      "Volatility is:  0.5457093601276874\n",
      "Daily Sharpe ratio is:  29.299611219572554\n",
      "Max Drawdown is:  0.387542627741314\n",
      "Calmar Ratio is:  13.220256346787709\n"
     ]
    }
   ],
   "source": [
    "daily_r = pd.DataFrame(daily_r,index = data.index,columns=['daily return'])\n",
    "# print(daily_r)\n",
    "mean_daily = daily_r['daily return'].mean()\n",
    "print(\"Average daily rate of return:\",mean_daily)\n",
    "mean_return_annualized = mean_daily**252 - 1\n",
    "# print(\"mean_return_annualized:\",mean_return_annualized)\n",
    "\n",
    "std_daily = np.std(np.array(daily_r))\n",
    "variance_daily = std_daily ** 2\n",
    "std_annualized = std_daily*np.sqrt(252)\n",
    "variance_annualized = std_annualized ** 2\n",
    "volatility = std_daily * np.sqrt(252)\n",
    "print(\"Volatility is: \",volatility)\n",
    "SR = mean_daily/std_daily\n",
    "print(\"Daily Sharpe ratio is: \",SR)\n",
    "ASR=np.sqrt(252)*SR\n",
    "maximum = np.maximum.accumulate(np.array(daily_r))\n",
    "MDD = ((maximum - np.array(daily_r)) / maximum).max()\n",
    "print(\"Max Drawdown is: \",MDD)\n",
    "CS = mean_return_annualized/MDD\n",
    "print(\"Calmar Ratio is: \",CS)"
   ]
  },
  {
   "cell_type": "code",
   "execution_count": null,
   "metadata": {},
   "outputs": [],
   "source": []
  },
  {
   "cell_type": "code",
   "execution_count": null,
   "metadata": {},
   "outputs": [],
   "source": []
  }
 ],
 "metadata": {
  "kernelspec": {
   "display_name": "Python 3",
   "language": "python",
   "name": "python3"
  },
  "language_info": {
   "codemirror_mode": {
    "name": "ipython",
    "version": 3
   },
   "file_extension": ".py",
   "mimetype": "text/x-python",
   "name": "python",
   "nbconvert_exporter": "python",
   "pygments_lexer": "ipython3",
   "version": "3.7.2"
  }
 },
 "nbformat": 4,
 "nbformat_minor": 4
}
