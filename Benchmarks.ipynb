{
 "cells": [
  {
   "cell_type": "code",
   "execution_count": 2,
   "metadata": {},
   "outputs": [],
   "source": [
    "import numpy as np\n",
    "import pandas as pd\n",
    "from scipy.stats import norm\n",
    "import cvxpy as cp"
   ]
  },
  {
   "cell_type": "code",
   "execution_count": 27,
   "metadata": {},
   "outputs": [],
   "source": [
    "data=pd.read_csv('./Data_OLPS/djia.csv',encoding=\"gb18030\")\n",
    "# print('data.shape：',data.shape)\n",
    "N=data.shape[0]\n",
    "d=data.shape[1]\n",
    "x=np.zeros((N,d))\n",
    "x=data.to_numpy()\n"
   ]
  },
  {
   "cell_type": "markdown",
   "metadata": {},
   "source": [
    "### Buy and Hold (Market) "
   ]
  },
  {
   "cell_type": "markdown",
   "metadata": {},
   "source": [
    "To compute the returns from a buy&hold portfolio, we simply take the dot product of our portfolio allocation with the rate of return:"
   ]
  },
  {
   "cell_type": "code",
   "execution_count": 28,
   "metadata": {},
   "outputs": [
    {
     "name": "stdout",
     "output_type": "stream",
     "text": [
      "Cumulative return: 0.7643610323182515\n"
     ]
    }
   ],
   "source": [
    "b = np.ones(d)/d\n",
    "# total = np.dot(per_symbol_return, allocation)\n",
    "per_return = np.prod(x, axis=0)\n",
    "# print(\"per_return:\",per_return)\n",
    "apr = np.power(per_return, 12.0/d)\n",
    "# print(\"apr:\",apr)\n",
    "BAH = np.dot(per_return, b)\n",
    "print(\"Cumulative return:\",BAH)\n",
    "total_apr = np.power(total, 1.0/d)\n",
    "# print(\"total_apr:\",total_apr)"
   ]
  },
  {
   "cell_type": "code",
   "execution_count": 33,
   "metadata": {},
   "outputs": [
    {
     "data": {
      "text/plain": [
       "0.7643610323182515"
      ]
     },
     "execution_count": 33,
     "metadata": {},
     "output_type": "execute_result"
    }
   ],
   "source": [
    "BAH = np.dot(np.prod(x, axis=0), np.ones(d)/d)\n",
    "BAH"
   ]
  },
  {
   "cell_type": "markdown",
   "metadata": {},
   "source": [
    "### Best stock strategy"
   ]
  },
  {
   "cell_type": "code",
   "execution_count": 29,
   "metadata": {},
   "outputs": [
    {
     "name": "stdout",
     "output_type": "stream",
     "text": [
      "Cumulative return:: 1.1883604505632095\n"
     ]
    }
   ],
   "source": [
    "per_return = np.prod(x, axis=0)\n",
    "b = per_return*np.ones(d)\n",
    "Best = b.max()\n",
    "print(\"Cumulative return::\",Best)"
   ]
  },
  {
   "cell_type": "markdown",
   "metadata": {},
   "source": [
    "### Constant rebalanced"
   ]
  },
  {
   "cell_type": "code",
   "execution_count": 30,
   "metadata": {},
   "outputs": [
    {
     "name": "stdout",
     "output_type": "stream",
     "text": [
      "Cumulative return:: 0.8127260664587703\n"
     ]
    }
   ],
   "source": [
    "b = np.ones(d)/d\n",
    "per_period_return = np.dot(x, b)\n",
    "# print(\"per_period_return:\",per_period_return)\n",
    "cumulative_return = np.prod(np.dot(x,b))\n",
    "print(\"Cumulative return::\",cumulative_return)"
   ]
  },
  {
   "cell_type": "markdown",
   "metadata": {},
   "source": [
    "### Best Constant rebalanced"
   ]
  },
  {
   "cell_type": "code",
   "execution_count": 31,
   "metadata": {},
   "outputs": [],
   "source": [
    "def opt_fractions(r):\n",
    "    x = cp.Variable(d)\n",
    "    constraints=[x>=0,cp.sum(x)==1]\n",
    "    obj=cp.sum(cp.log(r@x))\n",
    "    problem=cp.Problem(cp.Maximize(obj),constraints)\n",
    "    problem.solve()\n",
    "    return x.value"
   ]
  },
  {
   "cell_type": "code",
   "execution_count": 32,
   "metadata": {},
   "outputs": [
    {
     "name": "stdout",
     "output_type": "stream",
     "text": [
      "Cumulative return:: 1.239928428441429\n"
     ]
    }
   ],
   "source": [
    "frac=np.zeros(d)\n",
    "frac=opt_fractions(x)\n",
    "print('Cumulative return::',np.prod(x@frac))"
   ]
  },
  {
   "cell_type": "code",
   "execution_count": 34,
   "metadata": {},
   "outputs": [
    {
     "data": {
      "text/plain": [
       "1.239928428441429"
      ]
     },
     "execution_count": 34,
     "metadata": {},
     "output_type": "execute_result"
    }
   ],
   "source": [
    "BCRP = np.prod(x@opt_fractions(x))\n",
    "BCRP"
   ]
  },
  {
   "cell_type": "code",
   "execution_count": null,
   "metadata": {},
   "outputs": [],
   "source": []
  }
 ],
 "metadata": {
  "kernelspec": {
   "display_name": "Python 3",
   "language": "python",
   "name": "python3"
  },
  "language_info": {
   "codemirror_mode": {
    "name": "ipython",
    "version": 3
   },
   "file_extension": ".py",
   "mimetype": "text/x-python",
   "name": "python",
   "nbconvert_exporter": "python",
   "pygments_lexer": "ipython3",
   "version": "3.7.2"
  }
 },
 "nbformat": 4,
 "nbformat_minor": 4
}
