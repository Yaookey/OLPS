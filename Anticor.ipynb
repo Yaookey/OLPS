{
 "cells": [
  {
   "cell_type": "code",
   "execution_count": 27,
   "metadata": {},
   "outputs": [],
   "source": [
    "import numpy as np\n",
    "import pandas as pd\n",
    "import time"
   ]
  },
  {
   "cell_type": "markdown",
   "metadata": {},
   "source": [
    "## ANTICOR\n",
    "\n",
    "Can we learn to beat the best stock. JAIR, 21:579–594, 2004.\n",
    "\n",
    "Reference:\n",
    "Borodin, A., El-Yaniv, R., and Gogan, V. \n",
    "http://www.cs.toronto.edu/~bor/Papers/beating-best-stock.pdf"
   ]
  },
  {
   "cell_type": "code",
   "execution_count": 28,
   "metadata": {
    "scrolled": true
   },
   "outputs": [
    {
     "name": "stdout",
     "output_type": "stream",
     "text": [
      "data.shape： (6431, 23)\n"
     ]
    },
    {
     "data": {
      "text/plain": [
       "array([[0.99751   , 0.98648   , 0.9922    , ..., 0.98684   , 0.99671   ,\n",
       "        1.00892   ],\n",
       "       [1.00994   , 1.01371   , 1.00198   , ..., 0.99333   , 0.95396   ,\n",
       "        0.99116   ],\n",
       "       [0.99753   , 0.96957   , 0.98433   , ..., 1.00224   , 0.99654   ,\n",
       "        1.00448   ],\n",
       "       ...,\n",
       "       [0.99315069, 0.98214286, 0.98578199, ..., 1.01349073, 0.98453608,\n",
       "        0.99439776],\n",
       "       [0.97931035, 0.93636364, 0.95913461, ..., 0.99500832, 0.95986038,\n",
       "        0.9915493 ],\n",
       "       [1.        , 0.97087379, 0.97994987, ..., 0.99498328, 1.00545455,\n",
       "        0.98153409]])"
      ]
     },
     "execution_count": 28,
     "metadata": {},
     "output_type": "execute_result"
    }
   ],
   "source": [
    "data=pd.read_csv('./Data_OLPS/nyse-n.csv',encoding=\"gb18030\")\n",
    "\n",
    "print('data.shape：',data.shape) \n",
    "\n",
    "#data.info()\n",
    "N=data.shape[0]\n",
    "d=data.shape[1]\n",
    "x=np.zeros((N,d))\n",
    "b=np.ones(d)/d\n",
    "x=data.to_numpy()\n",
    "p=x\n",
    "x"
   ]
  },
  {
   "cell_type": "code",
   "execution_count": 29,
   "metadata": {},
   "outputs": [],
   "source": [
    "def simplex_proj(y):\n",
    "    \"\"\" Projection of y onto simplex. \"\"\"\n",
    "    m = len(y)\n",
    "    bget = False\n",
    "\n",
    "    s = sorted(y, reverse=True)\n",
    "    tmpsum = 0.\n",
    "\n",
    "    for ii in range(m-1):\n",
    "        tmpsum = tmpsum + s[ii]\n",
    "        tmax = (tmpsum - 1) / (ii + 1);\n",
    "        if tmax >= s[ii+1]:\n",
    "            bget = True\n",
    "            break\n",
    "\n",
    "    if not bget:\n",
    "        tmax = (tmpsum + s[m-1] -1)/m\n",
    "\n",
    "    return np.maximum(y-tmax,0.)\n"
   ]
  },
  {
   "cell_type": "markdown",
   "metadata": {},
   "source": [
    "### Algorithm 1. Portfolio Selection with OLMAR.\n",
    "1. Input: $𝜖>1$: Reversion threshold; $w>3$: Window size; $x_1^n$: Market sequence.\n",
    "2. Output: $S_n$: Cumulative wealth after $n^{th}$ periods.\n",
    "3. Procedure:\n",
    "4. Initialize $𝒃_𝟏 =(\\frac{1}{𝑚},⋯,\\frac{1}{𝑚}),S_0 = 1$ \n",
    "5. for t = 1, 2,...,n do\n",
    "6. $\\quad$Receive stock price relatives: $𝑥_𝑡=(𝑥_{t1},⋯,𝑥_{tm})$\n",
    "7. $\\quad$Calculate daily return and cumulative return: $S_t=S_{t-1}×(b_t·x_𝑡)$\n",
    "8. $\\quad$Predict next price relative vector: \n",
    "$$\n",
    "x̃_{𝑡+1}= \\frac{1}{w} (1+\\frac{1}{x_𝑡}+ ⋯ + \\frac{1}{⊗_{i=0}^{w-2}\\quad x_{t-i}})\n",
    "$$\n",
    "\n",
    "9. $\\quad$Update the portfolio:\n",
    "\n",
    "$$\n",
    "b_{t+1}=OLMAR(ϵ, w, x_{t+1}, b_t)\n",
    "$$"
   ]
  },
  {
   "cell_type": "markdown",
   "metadata": {},
   "source": [
    "### Algorithm   ANTICOR($w, t, x_t, \\hat b_t$)\n",
    "Input:\n",
    "\n",
    "   1. $w$: Window size; \n",
    "   2. $t$: Index of last trading day; \n",
    "   3. $X_𝑡=(x_1,⋯,x_t)$: Historical market sequence;\n",
    "   4. $\\hat b_t$:  current portfolio (by the end of trading day t).\n",
    "   \n",
    "Output: $b_{𝑡+1}$:Next day’s portfolio\n",
    " \n",
    "   1. Return the current portfolio $\\hat b_t$ if $t<2w$.\n",
    "   2. Compute $LX_1$ and $LX_2$ as defined in Equation (2), and $µ_1$ and $µ_2$, the (vector) averages of $LX_1$ and $LX_2$, respectively.\n",
    "   3. Compute $M_{cor}(i,j)$ as defined in Equation (3).\n",
    "   4. Calculate claims: for $1≤i,j≤m$, initialize $claim_{i→j}=0$\n",
    "   5. If $µ_2(i)≥µ_2(j)$ and $M_{cor}(i,j)>0$ then\n",
    "   \n",
    "       (a) $claim_{i→j}=$claim_{i→j}+M_{cor}(i,j)$;\n",
    "       \n",
    "       (b) if $M_{cor}(i,i)<0$ then $claim_{i→j}=claim_{i→j}-M_{cor}(i,i)$;\n",
    "       \n",
    "       (c) if $M_{cor}(j,j)<0$ then $claim_{i→j}=claim_{i→j}-M_{cor}(j,j)$;\n",
    "       \n",
    "       \n",
    "   6. Calculate new portfolio: Initialize $b^{t+1} = \\hat bt$. For $1≤i,j≤m$\n",
    "   \n",
    "       (a) Let $transfer_{i→j} = b^t_i · claim_{i→j}/\\sum_{j}claim_{i→j}$;\n",
    "       \n",
    "       (b) $b^{t+1}_i=b^{t+1}_i-transfer_{i→j}$;\n",
    "       \n",
    "       (c) $b^{t+1}_i=b^{t+1}_i+transfer_{i→j}$; "
   ]
  },
  {
   "cell_type": "code",
   "execution_count": 30,
   "metadata": {},
   "outputs": [
    {
     "name": "stdout",
     "output_type": "stream",
     "text": [
      "5\n",
      "Cumulative return: 2456685.767054648 -----> Expressed by scientific counting: 2.46e+06\n",
      "Program running time: 72.14797377586365\n"
     ]
    }
   ],
   "source": [
    "start = time.time()\n",
    "cum_ret=1 # Initialization\n",
    "w=5 # Window size\n",
    "# w=np.arange(5,100,5)\n",
    "#Inputs: w = window size, t = index of last trading day, x = Historical market sequence of returns (p / p_[t-1]), b_hat = current portfolio (at end of trading day t).  Initialize m to width of matrix x (= number of stocks)\n",
    "b=1. / d * np.ones(data.shape)\n",
    "daily_r=np.ones(N)\n",
    "for t in range(N-1):\n",
    "    # 1. Return the current portfolio ˆbt if t < 2w\n",
    "    if t < 2*w - 1:\n",
    "        b\n",
    "    else:\n",
    "    # 2.1 Compute LX1, LX2\n",
    "        LX1 = np.log(x[t-2*w+1:t-w+1,:])\n",
    "        LX2 = np.log(x[t-w+1:t+1,:])\n",
    "    # 2.2 Compute averages of LX1 and LX2\n",
    "        mu1 = np.mean(LX1, axis=0) \n",
    "        mu2 = np.mean(LX2, axis=0)\n",
    "    # 3 Compute Mcor(i, j)\n",
    "        M_cov = np.zeros((d,d))\n",
    "        M_cor = np.zeros((d,d))\n",
    "        claim = np.zeros((d,d))\n",
    "        transfer = np.zeros((d,d))        \n",
    "        sig1 = np.std(LX1, axis=0)\n",
    "        sig2 = np.std(LX2, axis=0)\n",
    "        sigma = sig1@sig2\n",
    "        \n",
    "    # 4-5\n",
    "        for i in range(d):\n",
    "            for j in range(d):\n",
    "                M_cov[i,j] = np.dot(np.transpose(LX1[:,i]-mu1[i]),(LX2[:,j] - mu2[j]))/(w-1)\n",
    "                # 3\n",
    "                if (sigma == 0):\n",
    "                    M_cor[i,j] = 0\n",
    "                else:\n",
    "                    M_cor[i,j] = M_cov[i,j] / sigma\n",
    "                    \n",
    "                if(i!=j):\n",
    "                    if ((mu2[i] >= mu2[j]) & (M_cor[i,j] > 0)):\n",
    "                        claim[i,j] = claim[i,j] + M_cor[i,j]\n",
    "                        if (M_cor[i,i] < 0):\n",
    "                            claim[i,j] = claim[i,j] + np.maximum(0, -M_cor[i,i])\n",
    "                        if (M_cor[j,j] < 0):\n",
    "                            claim[i,j] = claim[i,j] + np.maximum(0, -M_cor[j,j])\n",
    "            \n",
    "    # 6   \n",
    "        for i in range(d):   \n",
    "            total_claim = 0\n",
    "            for j in range(d):\n",
    "                total_claim += claim[i,j]\n",
    "            if(total_claim != 0):\n",
    "                for j in range(d):\n",
    "                    transfer[i,j] = b[t,i] * claim[i,j] / total_claim\n",
    "        \n",
    "        for i in range(d): \n",
    "            b[t+1,i] = b[t,i]\n",
    "            for j in range(d):\n",
    "                # update weights    \n",
    "                b[t+1,i] +=transfer[j,i] - transfer[i,j]\n",
    "\n",
    "        b[t+1] = simplex_proj(b[t+1])\n",
    "#     tc = gamma/2 * (np.abs(((x[t+1]*b)/ (np.dot(x[t+1],b)))[1:] - b[1:])).sum()\n",
    "        daily_r[t] = np.dot(x[t+1],b[t+1]) #* (1-tc)\n",
    "        cum_ret = cum_ret * daily_r[t] \n",
    "print(\"Cumulative return:\",cum_ret,\"-----> Expressed by scientific counting:\",f'{cum_ret:1.2e}') \n",
    "\n",
    "end = time.time()\n",
    "print(\"Program running time:\",end-start)"
   ]
  },
  {
   "cell_type": "code",
   "execution_count": 31,
   "metadata": {},
   "outputs": [
    {
     "name": "stdout",
     "output_type": "stream",
     "text": [
      "Average daily rate of return: 1.0027230957751705\n",
      "Volatility is:  0.46806471868115423\n",
      "Daily Sharpe ratio is:  34.007552879743066\n",
      "Max Drawdown is:  0.59962571386484\n",
      "Calmar Ratio is:  1.6415944847299775\n"
     ]
    }
   ],
   "source": [
    "daily_r = pd.DataFrame(daily_r,index = data.index,columns=['daily return'])\n",
    "# print(daily_r)\n",
    "mean_daily = daily_r['daily return'].mean()\n",
    "print(\"Average daily rate of return:\",mean_daily)\n",
    "mean_return_annualized = mean_daily**252 - 1\n",
    "# print(\"mean_return_annualized:\",mean_return_annualized)\n",
    "\n",
    "std_daily = np.std(np.array(daily_r))\n",
    "variance_daily = std_daily ** 2\n",
    "std_annualized = std_daily*np.sqrt(252)\n",
    "variance_annualized = std_annualized ** 2\n",
    "volatility = std_daily * np.sqrt(252)\n",
    "print(\"Volatility is: \",volatility)\n",
    "SR = mean_daily/std_daily\n",
    "print(\"Daily Sharpe ratio is: \",SR)\n",
    "ASR=np.sqrt(252)*SR\n",
    "maximum = np.maximum.accumulate(np.array(daily_r))\n",
    "MDD = ((maximum - np.array(daily_r)) / maximum).max()\n",
    "print(\"Max Drawdown is: \",MDD)\n",
    "CS = mean_return_annualized/MDD\n",
    "print(\"Calmar Ratio is: \",CS)"
   ]
  },
  {
   "cell_type": "code",
   "execution_count": null,
   "metadata": {},
   "outputs": [],
   "source": []
  }
 ],
 "metadata": {
  "kernelspec": {
   "display_name": "Python 3",
   "language": "python",
   "name": "python3"
  },
  "language_info": {
   "codemirror_mode": {
    "name": "ipython",
    "version": 3
   },
   "file_extension": ".py",
   "mimetype": "text/x-python",
   "name": "python",
   "nbconvert_exporter": "python",
   "pygments_lexer": "ipython3",
   "version": "3.7.2"
  }
 },
 "nbformat": 4,
 "nbformat_minor": 4
}
